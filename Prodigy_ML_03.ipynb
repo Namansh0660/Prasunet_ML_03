{
  "metadata": {
    "kernelspec": {
      "display_name": "Python 3",
      "name": "python3"
    },
    "language_info": {
      "pygments_lexer": "ipython3",
      "nbconvert_exporter": "python",
      "version": "3.6.4",
      "file_extension": ".py",
      "codemirror_mode": {
        "name": "ipython",
        "version": 3
      },
      "name": "python",
      "mimetype": "text/x-python"
    },
    "colab": {
      "name": "Prodigy_ML_03",
      "provenance": [],
      "toc_visible": true,
      "gpuType": "T4",
      "include_colab_link": true
    },
    "accelerator": "GPU"
  },
  "nbformat_minor": 0,
  "nbformat": 4,
  "cells": [
    {
      "cell_type": "markdown",
      "metadata": {
        "id": "view-in-github",
        "colab_type": "text"
      },
      "source": [
        "<a href=\"https://colab.research.google.com/github/Namansh0660/Prasunet_ML_03/blob/main/Prodigy_ML_03.ipynb\" target=\"_parent\"><img src=\"https://colab.research.google.com/assets/colab-badge.svg\" alt=\"Open In Colab\"/></a>"
      ]
    },
    {
      "source": [
        "\n",
        "# IMPORTANT: RUN THIS CELL IN ORDER TO IMPORT YOUR KAGGLE DATA SOURCES\n",
        "# TO THE CORRECT LOCATION (/kaggle/input) IN YOUR NOTEBOOK,\n",
        "# THEN FEEL FREE TO DELETE THIS CELL.\n",
        "# NOTE: THIS NOTEBOOK ENVIRONMENT DIFFERS FROM KAGGLE'S PYTHON\n",
        "# ENVIRONMENT SO THERE MAY BE MISSING LIBRARIES USED BY YOUR\n",
        "# NOTEBOOK.\n",
        "\n",
        "import os\n",
        "import sys\n",
        "from tempfile import NamedTemporaryFile\n",
        "from urllib.request import urlopen\n",
        "from urllib.parse import unquote, urlparse\n",
        "from urllib.error import HTTPError\n",
        "from zipfile import ZipFile\n",
        "import tarfile\n",
        "import shutil\n",
        "\n",
        "CHUNK_SIZE = 40960\n",
        "DATA_SOURCE_MAPPING = 'dogs-vs-cats:https%3A%2F%2Fstorage.googleapis.com%2Fkaggle-competitions-data%2Fkaggle-v2%2F3362%2F31148%2Fbundle%2Farchive.zip%3FX-Goog-Algorithm%3DGOOG4-RSA-SHA256%26X-Goog-Credential%3Dgcp-kaggle-com%2540kaggle-161607.iam.gserviceaccount.com%252F20240628%252Fauto%252Fstorage%252Fgoog4_request%26X-Goog-Date%3D20240628T175305Z%26X-Goog-Expires%3D259200%26X-Goog-SignedHeaders%3Dhost%26X-Goog-Signature%3D13b98b720688980c4ce99ed18c506a4ebeeaaab83bcce2e13c2303de1eb5f664e82b1ee0879cd62379cb4506a4ceedd82122e4d6d53c5d24279a9c3edb064151cdb51e301327041d3a3b7999be6b6646b3997bd609a069171305f9873062c7f308f577e6d43fd0e81ba892bc854d2148d68910fbcebc9cf98e495559ea4d89c719c16fd6635b8cd4aa51a971c739ad3c67f18c06dddbbe74c6f6d7c2ad8db76dea587e49bc20363672c3358c9a9ead521b9e39411146fd09e7de51410ab3aca0ba0e6c06dada733b4482f591aa51718d13226922e2203ec5b48e55a1e133861cb59cd96dd7d1d960c8d2f7ee3c1a7c4c35e77974204b4481d865d0c0805b31af'\n",
        "\n",
        "KAGGLE_INPUT_PATH='/kaggle/input'\n",
        "KAGGLE_WORKING_PATH='/kaggle/working'\n",
        "KAGGLE_SYMLINK='kaggle'\n",
        "\n",
        "!umount /kaggle/input/ 2> /dev/null\n",
        "shutil.rmtree('/kaggle/input', ignore_errors=True)\n",
        "os.makedirs(KAGGLE_INPUT_PATH, 0o777, exist_ok=True)\n",
        "os.makedirs(KAGGLE_WORKING_PATH, 0o777, exist_ok=True)\n",
        "\n",
        "try:\n",
        "  os.symlink(KAGGLE_INPUT_PATH, os.path.join(\"..\", 'input'), target_is_directory=True)\n",
        "except FileExistsError:\n",
        "  pass\n",
        "try:\n",
        "  os.symlink(KAGGLE_WORKING_PATH, os.path.join(\"..\", 'working'), target_is_directory=True)\n",
        "except FileExistsError:\n",
        "  pass\n",
        "\n",
        "for data_source_mapping in DATA_SOURCE_MAPPING.split(','):\n",
        "    directory, download_url_encoded = data_source_mapping.split(':')\n",
        "    download_url = unquote(download_url_encoded)\n",
        "    filename = urlparse(download_url).path\n",
        "    destination_path = os.path.join(KAGGLE_INPUT_PATH, directory)\n",
        "    try:\n",
        "        with urlopen(download_url) as fileres, NamedTemporaryFile() as tfile:\n",
        "            total_length = fileres.headers['content-length']\n",
        "            print(f'Downloading {directory}, {total_length} bytes compressed')\n",
        "            dl = 0\n",
        "            data = fileres.read(CHUNK_SIZE)\n",
        "            while len(data) > 0:\n",
        "                dl += len(data)\n",
        "                tfile.write(data)\n",
        "                done = int(50 * dl / int(total_length))\n",
        "                sys.stdout.write(f\"\\r[{'=' * done}{' ' * (50-done)}] {dl} bytes downloaded\")\n",
        "                sys.stdout.flush()\n",
        "                data = fileres.read(CHUNK_SIZE)\n",
        "            if filename.endswith('.zip'):\n",
        "              with ZipFile(tfile) as zfile:\n",
        "                zfile.extractall(destination_path)\n",
        "            else:\n",
        "              with tarfile.open(tfile.name) as tarfile:\n",
        "                tarfile.extractall(destination_path)\n",
        "            print(f'\\nDownloaded and uncompressed: {directory}')\n",
        "    except HTTPError as e:\n",
        "        print(f'Failed to load (likely expired) {download_url} to path {destination_path}')\n",
        "        continue\n",
        "    except OSError as e:\n",
        "        print(f'Failed to load {download_url} to path {destination_path}')\n",
        "        continue\n",
        "\n",
        "print('Data source import complete.')\n"
      ],
      "metadata": {
        "id": "HMhcGC1Q-3xN",
        "outputId": "5ea5a642-c30f-406b-b1f4-afed7993e6c7",
        "colab": {
          "base_uri": "https://localhost:8080/"
        }
      },
      "cell_type": "code",
      "outputs": [
        {
          "metadata": {
            "tags": null
          },
          "name": "stdout",
          "output_type": "stream",
          "text": [
            "Downloading dogs-vs-cats, 851576689 bytes compressed\n",
            "[==================================================] 851576689 bytes downloaded\n",
            "Downloaded and uncompressed: dogs-vs-cats\n",
            "Data source import complete.\n"
          ]
        }
      ],
      "execution_count": 1
    },
    {
      "cell_type": "code",
      "source": [
        "# This Python 3 environment comes with many helpful analytics libraries installed\n",
        "# It is defined by the kaggle/python Docker image: https://github.com/kaggle/docker-python\n",
        "# For example, here's several helpful packages to load\n",
        "\n",
        "import numpy as np # linear algebra\n",
        "import pandas as pd # data processing, CSV file I/O (e.g. pd.read_csv)\n",
        "\n",
        "# Input data files are available in the read-only \"../input/\" directory\n",
        "# For example, running this (by clicking run or pressing Shift+Enter) will list all files under the input directory\n",
        "\n",
        "import os\n",
        "for dirname, _, filenames in os.walk('/kaggle/input'):\n",
        "    for filename in filenames:\n",
        "        print(os.path.join(dirname, filename))\n",
        "\n",
        "# You can write up to 20GB to the current directory (/kaggle/working/) that gets preserved as output when you create a version using \"Save & Run All\"\n",
        "# You can also write temporary files to /kaggle/temp/, but they won't be saved outside of the current session"
      ],
      "metadata": {
        "_uuid": "8f2839f25d086af736a60e9eeb907d3b93b6e0e5",
        "_cell_guid": "b1076dfc-b9ad-4769-8c92-a6c4dae69d19",
        "execution": {
          "iopub.status.busy": "2023-10-05T09:37:59.115506Z",
          "iopub.execute_input": "2023-10-05T09:37:59.115992Z",
          "iopub.status.idle": "2023-10-05T09:37:59.54986Z",
          "shell.execute_reply.started": "2023-10-05T09:37:59.115953Z",
          "shell.execute_reply": "2023-10-05T09:37:59.548595Z"
        },
        "trusted": true,
        "id": "QEAollBW-3xW",
        "outputId": "7e796488-775f-4caa-f83e-1beb49054d2b",
        "colab": {
          "base_uri": "https://localhost:8080/"
        }
      },
      "execution_count": 2,
      "outputs": [
        {
          "metadata": {
            "tags": null
          },
          "name": "stdout",
          "output_type": "stream",
          "text": [
            "/kaggle/input/dogs-vs-cats/sampleSubmission.csv\n",
            "/kaggle/input/dogs-vs-cats/test1.zip\n",
            "/kaggle/input/dogs-vs-cats/train.zip\n"
          ]
        }
      ]
    },
    {
      "cell_type": "code",
      "source": [
        "import tensorflow as tf\n",
        "\n",
        "import pandas as pd\n",
        "import numpy as np\n",
        "\n",
        "import seaborn as sns\n",
        "import matplotlib.pyplot as plt\n",
        "\n",
        "from sklearn.metrics import confusion_matrix, classification_report\n"
      ],
      "metadata": {
        "execution": {
          "iopub.status.busy": "2023-10-05T09:37:59.555799Z",
          "iopub.execute_input": "2023-10-05T09:37:59.55865Z",
          "iopub.status.idle": "2023-10-05T09:38:09.241883Z",
          "shell.execute_reply.started": "2023-10-05T09:37:59.558613Z",
          "shell.execute_reply": "2023-10-05T09:38:09.240816Z"
        },
        "trusted": true,
        "id": "1yjSogTq-3xY"
      },
      "execution_count": 3,
      "outputs": []
    },
    {
      "cell_type": "code",
      "source": [
        "batch_size = 32\n",
        "num_classes = 10\n",
        "epochs = 100"
      ],
      "metadata": {
        "execution": {
          "iopub.status.busy": "2023-10-05T09:38:09.243287Z",
          "iopub.execute_input": "2023-10-05T09:38:09.244024Z",
          "iopub.status.idle": "2023-10-05T09:38:09.250729Z",
          "shell.execute_reply.started": "2023-10-05T09:38:09.243987Z",
          "shell.execute_reply": "2023-10-05T09:38:09.249028Z"
        },
        "trusted": true,
        "id": "Yew4d46o-3xZ"
      },
      "execution_count": 4,
      "outputs": []
    },
    {
      "cell_type": "code",
      "source": [
        "from tensorflow.keras.datasets import cifar10"
      ],
      "metadata": {
        "execution": {
          "iopub.status.busy": "2023-10-05T09:38:09.252197Z",
          "iopub.execute_input": "2023-10-05T09:38:09.253188Z",
          "iopub.status.idle": "2023-10-05T09:38:09.263305Z",
          "shell.execute_reply.started": "2023-10-05T09:38:09.253154Z",
          "shell.execute_reply": "2023-10-05T09:38:09.262114Z"
        },
        "trusted": true,
        "id": "jRhKoYYn-3xa"
      },
      "execution_count": 5,
      "outputs": []
    },
    {
      "cell_type": "code",
      "source": [
        "(X_train, Y_train), (X_test, Y_test) = cifar10.load_data()"
      ],
      "metadata": {
        "execution": {
          "iopub.status.busy": "2023-10-05T09:38:09.266825Z",
          "iopub.execute_input": "2023-10-05T09:38:09.267837Z",
          "iopub.status.idle": "2023-10-05T09:38:14.514563Z",
          "shell.execute_reply.started": "2023-10-05T09:38:09.26781Z",
          "shell.execute_reply": "2023-10-05T09:38:14.513402Z"
        },
        "trusted": true,
        "id": "Bdl3vDd2-3xb",
        "outputId": "5d276f97-bf30-48ed-ea41-ed790593d67b",
        "colab": {
          "base_uri": "https://localhost:8080/"
        }
      },
      "execution_count": 6,
      "outputs": [
        {
          "metadata": {
            "tags": null
          },
          "name": "stdout",
          "output_type": "stream",
          "text": [
            "Downloading data from https://www.cs.toronto.edu/~kriz/cifar-10-python.tar.gz\n",
            "170498071/170498071 [==============================] - 2s 0us/step\n"
          ]
        }
      ]
    },
    {
      "cell_type": "code",
      "source": [
        "print('X_train Shape: {}'.format(X_train.shape))\n",
        "print('X_test Shape: {}'.format(X_test.shape))\n",
        "print('Y_train Shape: {}'.format(Y_train.shape))\n",
        "print('Y_test Shape: {}'.format(Y_test.shape))"
      ],
      "metadata": {
        "execution": {
          "iopub.status.busy": "2023-10-05T09:38:14.515969Z",
          "iopub.execute_input": "2023-10-05T09:38:14.51703Z",
          "iopub.status.idle": "2023-10-05T09:38:14.523998Z",
          "shell.execute_reply.started": "2023-10-05T09:38:14.516997Z",
          "shell.execute_reply": "2023-10-05T09:38:14.522862Z"
        },
        "trusted": true,
        "id": "7SRnu6K--3xc",
        "outputId": "11875241-6857-48b8-e800-e06cd3ce7cb3",
        "colab": {
          "base_uri": "https://localhost:8080/"
        }
      },
      "execution_count": 7,
      "outputs": [
        {
          "metadata": {
            "tags": null
          },
          "name": "stdout",
          "output_type": "stream",
          "text": [
            "X_train Shape: (50000, 32, 32, 3)\n",
            "X_test Shape: (10000, 32, 32, 3)\n",
            "Y_train Shape: (50000, 1)\n",
            "Y_test Shape: (10000, 1)\n"
          ]
        }
      ]
    },
    {
      "cell_type": "markdown",
      "source": [
        "Normalizing"
      ],
      "metadata": {
        "id": "UH73zA1c-3xe"
      }
    },
    {
      "cell_type": "code",
      "source": [
        "X_train = X_train/255\n",
        "X_test = X_test/255"
      ],
      "metadata": {
        "execution": {
          "iopub.status.busy": "2023-10-05T09:38:14.525737Z",
          "iopub.execute_input": "2023-10-05T09:38:14.52659Z",
          "iopub.status.idle": "2023-10-05T09:38:15.08289Z",
          "shell.execute_reply.started": "2023-10-05T09:38:14.526556Z",
          "shell.execute_reply": "2023-10-05T09:38:15.081816Z"
        },
        "trusted": true,
        "id": "DMqTxhWK-3xi"
      },
      "execution_count": 8,
      "outputs": []
    },
    {
      "cell_type": "markdown",
      "source": [
        "One-Hot-Encoding"
      ],
      "metadata": {
        "id": "qTCFNTD9-3xj"
      }
    },
    {
      "cell_type": "code",
      "source": [
        "Y_train_en = tf.keras.utils.to_categorical(Y_train,10)\n",
        "Y_test_en = tf.keras.utils.to_categorical(Y_test,10)"
      ],
      "metadata": {
        "execution": {
          "iopub.status.busy": "2023-10-05T09:38:15.084358Z",
          "iopub.execute_input": "2023-10-05T09:38:15.085151Z",
          "iopub.status.idle": "2023-10-05T09:38:15.095653Z",
          "shell.execute_reply.started": "2023-10-05T09:38:15.085116Z",
          "shell.execute_reply": "2023-10-05T09:38:15.094556Z"
        },
        "trusted": true,
        "id": "ACxQTw8--3xk"
      },
      "execution_count": 9,
      "outputs": []
    },
    {
      "cell_type": "code",
      "source": [
        "import tensorflow as tf"
      ],
      "metadata": {
        "execution": {
          "iopub.status.busy": "2023-10-05T09:38:15.097263Z",
          "iopub.execute_input": "2023-10-05T09:38:15.09768Z",
          "iopub.status.idle": "2023-10-05T09:38:15.174987Z",
          "shell.execute_reply.started": "2023-10-05T09:38:15.09764Z",
          "shell.execute_reply": "2023-10-05T09:38:15.173809Z"
        },
        "trusted": true,
        "id": "E0NxsJ4L-3xl"
      },
      "execution_count": 10,
      "outputs": []
    },
    {
      "cell_type": "code",
      "source": [
        "model = tf.keras.Sequential([\n",
        "    tf.keras.layers.Conv2D(32, (4, 4), activation=\"relu\",input_shape=(32, 32, 3)),\n",
        "    tf.keras.layers.MaxPooling2D((2, 2)),\n",
        "    tf.keras.layers.Conv2D(32, (4, 4), activation=\"relu\",input_shape=(32, 32, 3)),\n",
        "    tf.keras.layers.MaxPooling2D((2, 2)),\n",
        "    tf.keras.layers.Flatten(),\n",
        "    tf.keras.layers.Dense(128, activation='relu'),\n",
        "    tf.keras.layers.Dense(units=10, activation='softmax')])\n",
        "\n",
        ""
      ],
      "metadata": {
        "execution": {
          "iopub.status.busy": "2023-10-05T09:38:15.176718Z",
          "iopub.execute_input": "2023-10-05T09:38:15.177085Z",
          "iopub.status.idle": "2023-10-05T09:38:20.514325Z",
          "shell.execute_reply.started": "2023-10-05T09:38:15.177054Z",
          "shell.execute_reply": "2023-10-05T09:38:20.512994Z"
        },
        "trusted": true,
        "id": "wslnuthR-3xm"
      },
      "execution_count": 11,
      "outputs": []
    },
    {
      "cell_type": "code",
      "source": [
        "model.compile(loss ='categorical_crossentropy', optimizer ='adam', metrics =['accuracy'])\n"
      ],
      "metadata": {
        "execution": {
          "iopub.status.busy": "2023-10-05T09:38:20.520397Z",
          "iopub.execute_input": "2023-10-05T09:38:20.523739Z",
          "iopub.status.idle": "2023-10-05T09:38:20.759135Z",
          "shell.execute_reply.started": "2023-10-05T09:38:20.52369Z",
          "shell.execute_reply": "2023-10-05T09:38:20.757823Z"
        },
        "trusted": true,
        "id": "MFNABzP_-3xn"
      },
      "execution_count": 12,
      "outputs": []
    },
    {
      "cell_type": "code",
      "source": [
        "model.summary()\n",
        "history = model.fit(X_train, Y_train_en, epochs = 30, verbose=1,validation_data=(X_test,Y_test_en))"
      ],
      "metadata": {
        "execution": {
          "iopub.status.busy": "2023-10-05T09:38:20.765622Z",
          "iopub.execute_input": "2023-10-05T09:38:20.769103Z",
          "iopub.status.idle": "2023-10-05T09:43:46.000101Z",
          "shell.execute_reply.started": "2023-10-05T09:38:20.769058Z",
          "shell.execute_reply": "2023-10-05T09:43:45.998833Z"
        },
        "trusted": true,
        "id": "HdOYOred-3xn",
        "outputId": "db496d69-0328-450f-dc7b-549d53d29e90",
        "colab": {
          "base_uri": "https://localhost:8080/"
        }
      },
      "execution_count": 13,
      "outputs": [
        {
          "metadata": {
            "tags": null
          },
          "name": "stdout",
          "output_type": "stream",
          "text": [
            "Model: \"sequential\"\n",
            "_________________________________________________________________\n",
            " Layer (type)                Output Shape              Param #   \n",
            "=================================================================\n",
            " conv2d (Conv2D)             (None, 29, 29, 32)        1568      \n",
            "                                                                 \n",
            " max_pooling2d (MaxPooling2  (None, 14, 14, 32)        0         \n",
            " D)                                                              \n",
            "                                                                 \n",
            " conv2d_1 (Conv2D)           (None, 11, 11, 32)        16416     \n",
            "                                                                 \n",
            " max_pooling2d_1 (MaxPoolin  (None, 5, 5, 32)          0         \n",
            " g2D)                                                            \n",
            "                                                                 \n",
            " flatten (Flatten)           (None, 800)               0         \n",
            "                                                                 \n",
            " dense (Dense)               (None, 128)               102528    \n",
            "                                                                 \n",
            " dense_1 (Dense)             (None, 10)                1290      \n",
            "                                                                 \n",
            "=================================================================\n",
            "Total params: 121802 (475.79 KB)\n",
            "Trainable params: 121802 (475.79 KB)\n",
            "Non-trainable params: 0 (0.00 Byte)\n",
            "_________________________________________________________________\n",
            "Epoch 1/30\n",
            "1563/1563 [==============================] - 17s 7ms/step - loss: 1.5243 - accuracy: 0.4465 - val_loss: 1.3337 - val_accuracy: 0.5267\n",
            "Epoch 2/30\n",
            "1563/1563 [==============================] - 10s 7ms/step - loss: 1.2002 - accuracy: 0.5752 - val_loss: 1.1348 - val_accuracy: 0.5961\n",
            "Epoch 3/30\n",
            "1563/1563 [==============================] - 9s 6ms/step - loss: 1.0676 - accuracy: 0.6249 - val_loss: 1.0547 - val_accuracy: 0.6362\n",
            "Epoch 4/30\n",
            "1563/1563 [==============================] - 8s 5ms/step - loss: 0.9811 - accuracy: 0.6567 - val_loss: 1.0318 - val_accuracy: 0.6424\n",
            "Epoch 5/30\n",
            "1563/1563 [==============================] - 9s 6ms/step - loss: 0.9107 - accuracy: 0.6816 - val_loss: 1.0005 - val_accuracy: 0.6524\n",
            "Epoch 6/30\n",
            "1563/1563 [==============================] - 8s 5ms/step - loss: 0.8488 - accuracy: 0.7029 - val_loss: 0.9972 - val_accuracy: 0.6582\n",
            "Epoch 7/30\n",
            "1563/1563 [==============================] - 7s 5ms/step - loss: 0.8003 - accuracy: 0.7184 - val_loss: 0.9710 - val_accuracy: 0.6694\n",
            "Epoch 8/30\n",
            "1563/1563 [==============================] - 8s 5ms/step - loss: 0.7539 - accuracy: 0.7379 - val_loss: 0.9771 - val_accuracy: 0.6680\n",
            "Epoch 9/30\n",
            "1563/1563 [==============================] - 8s 5ms/step - loss: 0.7132 - accuracy: 0.7506 - val_loss: 1.0287 - val_accuracy: 0.6521\n",
            "Epoch 10/30\n",
            "1563/1563 [==============================] - 8s 5ms/step - loss: 0.6739 - accuracy: 0.7625 - val_loss: 1.0158 - val_accuracy: 0.6668\n",
            "Epoch 11/30\n",
            "1563/1563 [==============================] - 9s 6ms/step - loss: 0.6406 - accuracy: 0.7760 - val_loss: 1.0794 - val_accuracy: 0.6558\n",
            "Epoch 12/30\n",
            "1563/1563 [==============================] - 8s 5ms/step - loss: 0.6011 - accuracy: 0.7866 - val_loss: 1.0644 - val_accuracy: 0.6613\n",
            "Epoch 13/30\n",
            "1563/1563 [==============================] - 8s 5ms/step - loss: 0.5748 - accuracy: 0.7988 - val_loss: 1.0599 - val_accuracy: 0.6613\n",
            "Epoch 14/30\n",
            "1563/1563 [==============================] - 8s 5ms/step - loss: 0.5448 - accuracy: 0.8063 - val_loss: 1.1045 - val_accuracy: 0.6699\n",
            "Epoch 15/30\n",
            "1563/1563 [==============================] - 7s 5ms/step - loss: 0.5098 - accuracy: 0.8194 - val_loss: 1.1505 - val_accuracy: 0.6633\n",
            "Epoch 16/30\n",
            "1563/1563 [==============================] - 10s 6ms/step - loss: 0.4810 - accuracy: 0.8307 - val_loss: 1.2015 - val_accuracy: 0.6591\n",
            "Epoch 17/30\n",
            "1563/1563 [==============================] - 8s 5ms/step - loss: 0.4544 - accuracy: 0.8382 - val_loss: 1.2396 - val_accuracy: 0.6513\n",
            "Epoch 18/30\n",
            "1563/1563 [==============================] - 8s 5ms/step - loss: 0.4336 - accuracy: 0.8461 - val_loss: 1.2543 - val_accuracy: 0.6607\n",
            "Epoch 19/30\n",
            "1563/1563 [==============================] - 8s 5ms/step - loss: 0.4084 - accuracy: 0.8554 - val_loss: 1.2996 - val_accuracy: 0.6504\n",
            "Epoch 20/30\n",
            "1563/1563 [==============================] - 7s 5ms/step - loss: 0.3826 - accuracy: 0.8635 - val_loss: 1.3830 - val_accuracy: 0.6505\n",
            "Epoch 21/30\n",
            "1563/1563 [==============================] - 9s 5ms/step - loss: 0.3577 - accuracy: 0.8724 - val_loss: 1.4925 - val_accuracy: 0.6375\n",
            "Epoch 22/30\n",
            "1563/1563 [==============================] - 8s 5ms/step - loss: 0.3441 - accuracy: 0.8766 - val_loss: 1.4273 - val_accuracy: 0.6578\n",
            "Epoch 23/30\n",
            "1563/1563 [==============================] - 7s 5ms/step - loss: 0.3260 - accuracy: 0.8837 - val_loss: 1.5274 - val_accuracy: 0.6479\n",
            "Epoch 24/30\n",
            "1563/1563 [==============================] - 9s 6ms/step - loss: 0.3033 - accuracy: 0.8925 - val_loss: 1.6216 - val_accuracy: 0.6474\n",
            "Epoch 25/30\n",
            "1563/1563 [==============================] - 8s 5ms/step - loss: 0.2888 - accuracy: 0.8982 - val_loss: 1.6567 - val_accuracy: 0.6419\n",
            "Epoch 26/30\n",
            "1563/1563 [==============================] - 8s 5ms/step - loss: 0.2789 - accuracy: 0.9007 - val_loss: 1.6944 - val_accuracy: 0.6466\n",
            "Epoch 27/30\n",
            "1563/1563 [==============================] - 9s 5ms/step - loss: 0.2620 - accuracy: 0.9060 - val_loss: 1.7749 - val_accuracy: 0.6471\n",
            "Epoch 28/30\n",
            "1563/1563 [==============================] - 8s 5ms/step - loss: 0.2474 - accuracy: 0.9117 - val_loss: 1.9005 - val_accuracy: 0.6399\n",
            "Epoch 29/30\n",
            "1563/1563 [==============================] - 8s 5ms/step - loss: 0.2340 - accuracy: 0.9153 - val_loss: 1.8808 - val_accuracy: 0.6458\n",
            "Epoch 30/30\n",
            "1563/1563 [==============================] - 9s 6ms/step - loss: 0.2266 - accuracy: 0.9183 - val_loss: 1.9817 - val_accuracy: 0.6455\n"
          ]
        }
      ]
    },
    {
      "cell_type": "code",
      "source": [
        "evaluation = model.evaluate(X_test, Y_test_en)\n",
        "print('Test Accuracy of Base Model: {}'.format(evaluation[1]))"
      ],
      "metadata": {
        "execution": {
          "iopub.status.busy": "2023-10-05T09:43:46.001962Z",
          "iopub.execute_input": "2023-10-05T09:43:46.002452Z",
          "iopub.status.idle": "2023-10-05T09:43:47.723497Z",
          "shell.execute_reply.started": "2023-10-05T09:43:46.002415Z",
          "shell.execute_reply": "2023-10-05T09:43:47.722289Z"
        },
        "trusted": true,
        "id": "CAlceuVb-3xn",
        "outputId": "d5da38bf-06cb-472e-ddb3-685604db80ec",
        "colab": {
          "base_uri": "https://localhost:8080/"
        }
      },
      "execution_count": 14,
      "outputs": [
        {
          "metadata": {
            "tags": null
          },
          "name": "stdout",
          "output_type": "stream",
          "text": [
            "313/313 [==============================] - 1s 4ms/step - loss: 1.9817 - accuracy: 0.6455\n",
            "Test Accuracy of Base Model: 0.6455000042915344\n"
          ]
        }
      ]
    },
    {
      "cell_type": "code",
      "source": [
        "def plotloss(history):\n",
        "    plt.plot(history.history['loss'])\n",
        "    plt.plot(history.history['val_loss'])\n",
        "    plt.plot(history.history['accuracy'])\n",
        "    plt.xlabel('Epochs')\n",
        "    plt.ylabel('Loss')\n",
        "    plt.legend(['Train', 'Validation', 'Accuracy'])\n",
        "    plt.show()\n",
        "plotloss(history)"
      ],
      "metadata": {
        "execution": {
          "iopub.status.busy": "2023-10-05T09:43:47.728041Z",
          "iopub.execute_input": "2023-10-05T09:43:47.728757Z",
          "iopub.status.idle": "2023-10-05T09:43:48.080606Z",
          "shell.execute_reply.started": "2023-10-05T09:43:47.728711Z",
          "shell.execute_reply": "2023-10-05T09:43:48.079608Z"
        },
        "trusted": true,
        "id": "UqthnI6o-3xo",
        "outputId": "da85e5b0-5908-46ec-c900-e440788bcebd",
        "colab": {
          "base_uri": "https://localhost:8080/",
          "height": 449
        }
      },
      "execution_count": null,
      "outputs": [
        {
          "data": {
            "image/png": "[encoded data removed]",
            "text/plain": [
              "<Figure size 640x480 with 1 Axes>"
            ]
          },
          "metadata": {},
          "output_type": "display_data"
        }
      ]
    },
    {
      "cell_type": "markdown",
      "source": [
        "As validation loss is quite increasing we can say that the model is overfitting"
      ],
      "metadata": {
        "id": "QI4gAEjo-3xo"
      }
    },
    {
      "cell_type": "markdown",
      "source": [
        "Let's try adding Dropout"
      ],
      "metadata": {
        "id": "8wQTFNXX-3xp"
      }
    },
    {
      "cell_type": "code",
      "source": [
        "model_2 = tf.keras.Sequential([\n",
        "    tf.keras.layers.Conv2D(32, (4, 4), activation=\"relu\",input_shape=(32, 32, 3)),\n",
        "    tf.keras.layers.BatchNormalization(),\n",
        "    tf.keras.layers.MaxPooling2D((2, 2)),\n",
        "    tf.keras.layers.BatchNormalization(),\n",
        "    tf.keras.layers.Dropout(0.5),\n",
        "    tf.keras.layers.Conv2D(32, (4, 4), activation=\"relu\",input_shape=(32, 32, 3)),\n",
        "    tf.keras.layers.BatchNormalization(),\n",
        "    tf.keras.layers.MaxPooling2D((2, 2)),\n",
        "    tf.keras.layers.BatchNormalization(),\n",
        "    tf.keras.layers.Dropout(0.5),\n",
        "    tf.keras.layers.Flatten(),\n",
        "    tf.keras.layers.Dense(128, activation='relu'),\n",
        "    tf.keras.layers.BatchNormalization(),\n",
        "    tf.keras.layers.Dense(units=10, activation='softmax')])\n",
        "\n",
        ""
      ],
      "metadata": {
        "execution": {
          "iopub.status.busy": "2023-10-05T09:43:48.082117Z",
          "iopub.execute_input": "2023-10-05T09:43:48.082758Z",
          "iopub.status.idle": "2023-10-05T09:43:48.221619Z",
          "shell.execute_reply.started": "2023-10-05T09:43:48.082722Z",
          "shell.execute_reply": "2023-10-05T09:43:48.220579Z"
        },
        "trusted": true,
        "id": "8HpujXgC-3xp"
      },
      "execution_count": 16,
      "outputs": []
    },
    {
      "cell_type": "code",
      "source": [
        "model_2.compile(loss ='categorical_crossentropy', optimizer ='adam', metrics =['accuracy'])\n"
      ],
      "metadata": {
        "execution": {
          "iopub.status.busy": "2023-10-05T09:43:48.222987Z",
          "iopub.execute_input": "2023-10-05T09:43:48.223345Z",
          "iopub.status.idle": "2023-10-05T09:43:48.238699Z",
          "shell.execute_reply.started": "2023-10-05T09:43:48.223309Z",
          "shell.execute_reply": "2023-10-05T09:43:48.237593Z"
        },
        "trusted": true,
        "id": "eekkb8IH-3xp"
      },
      "execution_count": 17,
      "outputs": []
    },
    {
      "cell_type": "code",
      "source": [
        "model_2.summary()\n",
        "history_2 = model_2.fit(X_train, Y_train_en, epochs = 30, verbose=1, validation_data=(X_test,Y_test_en))\n"
      ],
      "metadata": {
        "execution": {
          "iopub.status.busy": "2023-10-05T09:43:48.240603Z",
          "iopub.execute_input": "2023-10-05T09:43:48.24124Z",
          "iopub.status.idle": "2023-10-05T09:51:13.670885Z",
          "shell.execute_reply.started": "2023-10-05T09:43:48.241202Z",
          "shell.execute_reply": "2023-10-05T09:51:13.669787Z"
        },
        "trusted": true,
        "id": "uLMWo_vY-3xq",
        "outputId": "7f0b2fdd-e30b-47fa-fc83-8313b62f2570",
        "colab": {
          "base_uri": "https://localhost:8080/"
        }
      },
      "execution_count": 18,
      "outputs": [
        {
          "metadata": {
            "tags": null
          },
          "name": "stdout",
          "output_type": "stream",
          "text": [
            "Model: \"sequential_1\"\n",
            "_________________________________________________________________\n",
            " Layer (type)                Output Shape              Param #   \n",
            "=================================================================\n",
            " conv2d_2 (Conv2D)           (None, 29, 29, 32)        1568      \n",
            "                                                                 \n",
            " batch_normalization (Batch  (None, 29, 29, 32)        128       \n",
            " Normalization)                                                  \n",
            "                                                                 \n",
            " max_pooling2d_2 (MaxPoolin  (None, 14, 14, 32)        0         \n",
            " g2D)                                                            \n",
            "                                                                 \n",
            " batch_normalization_1 (Bat  (None, 14, 14, 32)        128       \n",
            " chNormalization)                                                \n",
            "                                                                 \n",
            " dropout (Dropout)           (None, 14, 14, 32)        0         \n",
            "                                                                 \n",
            " conv2d_3 (Conv2D)           (None, 11, 11, 32)        16416     \n",
            "                                                                 \n",
            " batch_normalization_2 (Bat  (None, 11, 11, 32)        128       \n",
            " chNormalization)                                                \n",
            "                                                                 \n",
            " max_pooling2d_3 (MaxPoolin  (None, 5, 5, 32)          0         \n",
            " g2D)                                                            \n",
            "                                                                 \n",
            " batch_normalization_3 (Bat  (None, 5, 5, 32)          128       \n",
            " chNormalization)                                                \n",
            "                                                                 \n",
            " dropout_1 (Dropout)         (None, 5, 5, 32)          0         \n",
            "                                                                 \n",
            " flatten_1 (Flatten)         (None, 800)               0         \n",
            "                                                                 \n",
            " dense_2 (Dense)             (None, 128)               102528    \n",
            "                                                                 \n",
            " batch_normalization_4 (Bat  (None, 128)               512       \n",
            " chNormalization)                                                \n",
            "                                                                 \n",
            " dense_3 (Dense)             (None, 10)                1290      \n",
            "                                                                 \n",
            "=================================================================\n",
            "Total params: 122826 (479.79 KB)\n",
            "Trainable params: 122314 (477.79 KB)\n",
            "Non-trainable params: 512 (2.00 KB)\n",
            "_________________________________________________________________\n",
            "Epoch 1/30\n",
            "1563/1563 [==============================] - 17s 8ms/step - loss: 1.6376 - accuracy: 0.4122 - val_loss: 1.5717 - val_accuracy: 0.4434\n",
            "Epoch 2/30\n",
            "1563/1563 [==============================] - 13s 8ms/step - loss: 1.3757 - accuracy: 0.5058 - val_loss: 1.2645 - val_accuracy: 0.5395\n",
            "Epoch 3/30\n",
            "1563/1563 [==============================] - 13s 8ms/step - loss: 1.2789 - accuracy: 0.5425 - val_loss: 1.9553 - val_accuracy: 0.3684\n",
            "Epoch 4/30\n",
            "1563/1563 [==============================] - 12s 7ms/step - loss: 1.2054 - accuracy: 0.5747 - val_loss: 1.2287 - val_accuracy: 0.5500\n",
            "Epoch 5/30\n",
            "1563/1563 [==============================] - 12s 7ms/step - loss: 1.1610 - accuracy: 0.5887 - val_loss: 1.0826 - val_accuracy: 0.6210\n",
            "Epoch 6/30\n",
            "1563/1563 [==============================] - 12s 8ms/step - loss: 1.1150 - accuracy: 0.6048 - val_loss: 1.8410 - val_accuracy: 0.4275\n",
            "Epoch 7/30\n",
            "1563/1563 [==============================] - 12s 8ms/step - loss: 1.0780 - accuracy: 0.6199 - val_loss: 1.0636 - val_accuracy: 0.6190\n",
            "Epoch 8/30\n",
            "1563/1563 [==============================] - 12s 8ms/step - loss: 1.0566 - accuracy: 0.6271 - val_loss: 0.9191 - val_accuracy: 0.6761\n",
            "Epoch 9/30\n",
            "1563/1563 [==============================] - 12s 8ms/step - loss: 1.0273 - accuracy: 0.6404 - val_loss: 1.1420 - val_accuracy: 0.5994\n",
            "Epoch 10/30\n",
            "1563/1563 [==============================] - 12s 8ms/step - loss: 1.0133 - accuracy: 0.6426 - val_loss: 1.1884 - val_accuracy: 0.5983\n",
            "Epoch 11/30\n",
            "1563/1563 [==============================] - 12s 8ms/step - loss: 0.9888 - accuracy: 0.6536 - val_loss: 1.2379 - val_accuracy: 0.5873\n",
            "Epoch 12/30\n",
            "1563/1563 [==============================] - 12s 8ms/step - loss: 0.9766 - accuracy: 0.6564 - val_loss: 0.9719 - val_accuracy: 0.6657\n",
            "Epoch 13/30\n",
            "1563/1563 [==============================] - 12s 7ms/step - loss: 0.9631 - accuracy: 0.6647 - val_loss: 0.9050 - val_accuracy: 0.6864\n",
            "Epoch 14/30\n",
            "1563/1563 [==============================] - 12s 7ms/step - loss: 0.9548 - accuracy: 0.6658 - val_loss: 0.9258 - val_accuracy: 0.6776\n",
            "Epoch 15/30\n",
            "1563/1563 [==============================] - 12s 8ms/step - loss: 0.9408 - accuracy: 0.6686 - val_loss: 0.9158 - val_accuracy: 0.6840\n",
            "Epoch 16/30\n",
            "1563/1563 [==============================] - 13s 8ms/step - loss: 0.9329 - accuracy: 0.6718 - val_loss: 0.9148 - val_accuracy: 0.6854\n",
            "Epoch 17/30\n",
            "1563/1563 [==============================] - 12s 7ms/step - loss: 0.9260 - accuracy: 0.6754 - val_loss: 0.8802 - val_accuracy: 0.6950\n",
            "Epoch 18/30\n",
            "1563/1563 [==============================] - 11s 7ms/step - loss: 0.9199 - accuracy: 0.6792 - val_loss: 0.8357 - val_accuracy: 0.7056\n",
            "Epoch 19/30\n",
            "1563/1563 [==============================] - 11s 7ms/step - loss: 0.9135 - accuracy: 0.6806 - val_loss: 0.8273 - val_accuracy: 0.7106\n",
            "Epoch 20/30\n",
            "1563/1563 [==============================] - 12s 8ms/step - loss: 0.9060 - accuracy: 0.6824 - val_loss: 0.9067 - val_accuracy: 0.6861\n",
            "Epoch 21/30\n",
            "1563/1563 [==============================] - 12s 8ms/step - loss: 0.8993 - accuracy: 0.6844 - val_loss: 0.8055 - val_accuracy: 0.7194\n",
            "Epoch 22/30\n",
            "1563/1563 [==============================] - 12s 8ms/step - loss: 0.8902 - accuracy: 0.6890 - val_loss: 0.9204 - val_accuracy: 0.6776\n",
            "Epoch 23/30\n",
            "1563/1563 [==============================] - 12s 8ms/step - loss: 0.8871 - accuracy: 0.6900 - val_loss: 0.8218 - val_accuracy: 0.7138\n",
            "Epoch 24/30\n",
            "1563/1563 [==============================] - 12s 8ms/step - loss: 0.8838 - accuracy: 0.6885 - val_loss: 0.8308 - val_accuracy: 0.7105\n",
            "Epoch 25/30\n",
            "1563/1563 [==============================] - 12s 8ms/step - loss: 0.8800 - accuracy: 0.6910 - val_loss: 1.1746 - val_accuracy: 0.6074\n",
            "Epoch 26/30\n",
            "1563/1563 [==============================] - 12s 8ms/step - loss: 0.8718 - accuracy: 0.6949 - val_loss: 0.7850 - val_accuracy: 0.7285\n",
            "Epoch 27/30\n",
            "1563/1563 [==============================] - 12s 8ms/step - loss: 0.8704 - accuracy: 0.6941 - val_loss: 0.9229 - val_accuracy: 0.6820\n",
            "Epoch 28/30\n",
            "1563/1563 [==============================] - 12s 8ms/step - loss: 0.8671 - accuracy: 0.6967 - val_loss: 0.8175 - val_accuracy: 0.7129\n",
            "Epoch 29/30\n",
            "1563/1563 [==============================] - 11s 7ms/step - loss: 0.8671 - accuracy: 0.6984 - val_loss: 0.7799 - val_accuracy: 0.7306\n",
            "Epoch 30/30\n",
            "1563/1563 [==============================] - 13s 8ms/step - loss: 0.8567 - accuracy: 0.7016 - val_loss: 0.8025 - val_accuracy: 0.7186\n"
          ]
        }
      ]
    },
    {
      "cell_type": "code",
      "source": [
        "evaluation = model_2.evaluate(X_test, Y_test_en)\n",
        "print('Test Accuracy of Model_2(with more  filters): {}'.format(evaluation[1]))\n"
      ],
      "metadata": {
        "execution": {
          "iopub.status.busy": "2023-10-05T09:51:13.67277Z",
          "iopub.execute_input": "2023-10-05T09:51:13.673131Z",
          "iopub.status.idle": "2023-10-05T09:51:15.244274Z",
          "shell.execute_reply.started": "2023-10-05T09:51:13.673097Z",
          "shell.execute_reply": "2023-10-05T09:51:15.243024Z"
        },
        "trusted": true,
        "id": "gGWLmUbJ-3xq",
        "outputId": "620d6de9-e850-436a-bb58-9efc0339f0ca",
        "colab": {
          "base_uri": "https://localhost:8080/"
        }
      },
      "execution_count": 19,
      "outputs": [
        {
          "metadata": {
            "tags": null
          },
          "name": "stdout",
          "output_type": "stream",
          "text": [
            "313/313 [==============================] - 1s 3ms/step - loss: 0.8025 - accuracy: 0.7186\n",
            "Test Accuracy of Model_2(with more  filters): 0.7185999751091003\n"
          ]
        }
      ]
    },
    {
      "cell_type": "code",
      "source": [
        "def plotloss(history_2):\n",
        "    plt.plot(history_2.history['loss'])\n",
        "    plt.plot(history_2.history['val_loss'])\n",
        "    plt.plot(history_2.history['accuracy'])\n",
        "    plt.xlabel('Epochs')\n",
        "    plt.ylabel('Loss')\n",
        "    plt.legend(['Train', 'Validation', 'Accuracy'])\n",
        "    plt.show()\n",
        "plotloss(history_2)"
      ],
      "metadata": {
        "execution": {
          "iopub.status.busy": "2023-10-05T09:51:15.246049Z",
          "iopub.execute_input": "2023-10-05T09:51:15.246465Z",
          "iopub.status.idle": "2023-10-05T09:51:15.600653Z",
          "shell.execute_reply.started": "2023-10-05T09:51:15.246427Z",
          "shell.execute_reply": "2023-10-05T09:51:15.599675Z"
        },
        "trusted": true,
        "id": "_kRcQqVE-3xr",
        "outputId": "45c6b9c6-9285-4f3e-d268-79562870469d",
        "colab": {
          "base_uri": "https://localhost:8080/",
          "height": 449
        }
      },
      "execution_count": null,
      "outputs": [
        {
          "data": {
            "image/png": "[encoded data removed]",
            "text/plain": [
              "<Figure size 640x480 with 1 Axes>"
            ]
          },
          "metadata": {},
          "output_type": "display_data"
        }
      ]
    },
    {
      "cell_type": "code",
      "source": [
        "model_3 = tf.keras.Sequential([\n",
        "    tf.keras.layers.Conv2D(64, (4, 4), activation=\"relu\",input_shape=(32, 32, 3),padding='same'),\n",
        "    tf.keras.layers.BatchNormalization(),\n",
        "    tf.keras.layers.Conv2D(64, (4, 4), activation=\"relu\",input_shape=(32, 32, 3),padding='same'),\n",
        "    tf.keras.layers.BatchNormalization(),\n",
        "    tf.keras.layers.MaxPooling2D((2, 2)),\n",
        "    tf.keras.layers.Dropout(0.2),\n",
        "    tf.keras.layers.Conv2D(128, (4, 4), activation=\"relu\",input_shape=(32, 32, 3),padding='same'),\n",
        "    tf.keras.layers.BatchNormalization(),\n",
        "    tf.keras.layers.Conv2D(128, (4, 4), activation=\"relu\",input_shape=(32, 32, 3),padding='same'),\n",
        "    tf.keras.layers.BatchNormalization(),\n",
        "    tf.keras.layers.MaxPooling2D((2, 2)),\n",
        "    tf.keras.layers.BatchNormalization(),\n",
        "    tf.keras.layers.Dropout(0.25),\n",
        "    tf.keras.layers.Conv2D(128, (4, 4), activation=\"relu\",input_shape=(32, 32, 3),padding='same'),\n",
        "    tf.keras.layers.BatchNormalization(),\n",
        "    tf.keras.layers.Conv2D(128, (4, 4), activation=\"relu\",input_shape=(32, 32, 3),padding='same'),\n",
        "    tf.keras.layers.BatchNormalization(),\n",
        "    tf.keras.layers.MaxPooling2D((2, 2)),\n",
        "    tf.keras.layers.Dropout(0.35),\n",
        "    tf.keras.layers.Flatten(),\n",
        "    tf.keras.layers.Dense(256, activation='relu'),\n",
        "    tf.keras.layers.BatchNormalization(),\n",
        "    tf.keras.layers.Dropout(0.5),\n",
        "    tf.keras.layers.Dense(units=10, activation='softmax'),])\n",
        "\n",
        ""
      ],
      "metadata": {
        "execution": {
          "iopub.status.busy": "2023-10-05T09:51:15.602395Z",
          "iopub.execute_input": "2023-10-05T09:51:15.603106Z",
          "iopub.status.idle": "2023-10-05T09:51:15.842506Z",
          "shell.execute_reply.started": "2023-10-05T09:51:15.603069Z",
          "shell.execute_reply": "2023-10-05T09:51:15.841389Z"
        },
        "trusted": true,
        "id": "gfYWOgB5-3xr"
      },
      "execution_count": 21,
      "outputs": []
    },
    {
      "cell_type": "code",
      "source": [
        "model_3.compile(loss ='categorical_crossentropy', optimizer ='adam', metrics =['accuracy'])\n"
      ],
      "metadata": {
        "execution": {
          "iopub.status.busy": "2023-10-05T09:51:15.843801Z",
          "iopub.execute_input": "2023-10-05T09:51:15.844179Z",
          "iopub.status.idle": "2023-10-05T09:51:15.858848Z",
          "shell.execute_reply.started": "2023-10-05T09:51:15.844148Z",
          "shell.execute_reply": "2023-10-05T09:51:15.857851Z"
        },
        "trusted": true,
        "id": "9m6vhI27-3xr"
      },
      "execution_count": 22,
      "outputs": []
    },
    {
      "cell_type": "code",
      "source": [
        "model_3.summary()\n",
        "history_3 = model_3.fit(X_train, Y_train_en, epochs = 30, verbose=1, validation_data=(X_test,Y_test_en))\n"
      ],
      "metadata": {
        "execution": {
          "iopub.status.busy": "2023-10-05T09:51:15.860898Z",
          "iopub.execute_input": "2023-10-05T09:51:15.861627Z",
          "iopub.status.idle": "2023-10-05T10:08:29.271469Z",
          "shell.execute_reply.started": "2023-10-05T09:51:15.861592Z",
          "shell.execute_reply": "2023-10-05T10:08:29.270379Z"
        },
        "trusted": true,
        "id": "Px12WIFr-3xs",
        "outputId": "450ce581-ea39-460b-d8b9-c251895ab1c2",
        "colab": {
          "base_uri": "https://localhost:8080/"
        }
      },
      "execution_count": 23,
      "outputs": [
        {
          "metadata": {
            "tags": null
          },
          "name": "stdout",
          "output_type": "stream",
          "text": [
            "Model: \"sequential_2\"\n",
            "_________________________________________________________________\n",
            " Layer (type)                Output Shape              Param #   \n",
            "=================================================================\n",
            " conv2d_4 (Conv2D)           (None, 32, 32, 64)        3136      \n",
            "                                                                 \n",
            " batch_normalization_5 (Bat  (None, 32, 32, 64)        256       \n",
            " chNormalization)                                                \n",
            "                                                                 \n",
            " conv2d_5 (Conv2D)           (None, 32, 32, 64)        65600     \n",
            "                                                                 \n",
            " batch_normalization_6 (Bat  (None, 32, 32, 64)        256       \n",
            " chNormalization)                                                \n",
            "                                                                 \n",
            " max_pooling2d_4 (MaxPoolin  (None, 16, 16, 64)        0         \n",
            " g2D)                                                            \n",
            "                                                                 \n",
            " dropout_2 (Dropout)         (None, 16, 16, 64)        0         \n",
            "                                                                 \n",
            " conv2d_6 (Conv2D)           (None, 16, 16, 128)       131200    \n",
            "                                                                 \n",
            " batch_normalization_7 (Bat  (None, 16, 16, 128)       512       \n",
            " chNormalization)                                                \n",
            "                                                                 \n",
            " conv2d_7 (Conv2D)           (None, 16, 16, 128)       262272    \n",
            "                                                                 \n",
            " batch_normalization_8 (Bat  (None, 16, 16, 128)       512       \n",
            " chNormalization)                                                \n",
            "                                                                 \n",
            " max_pooling2d_5 (MaxPoolin  (None, 8, 8, 128)         0         \n",
            " g2D)                                                            \n",
            "                                                                 \n",
            " batch_normalization_9 (Bat  (None, 8, 8, 128)         512       \n",
            " chNormalization)                                                \n",
            "                                                                 \n",
            " dropout_3 (Dropout)         (None, 8, 8, 128)         0         \n",
            "                                                                 \n",
            " conv2d_8 (Conv2D)           (None, 8, 8, 128)         262272    \n",
            "                                                                 \n",
            " batch_normalization_10 (Ba  (None, 8, 8, 128)         512       \n",
            " tchNormalization)                                               \n",
            "                                                                 \n",
            " conv2d_9 (Conv2D)           (None, 8, 8, 128)         262272    \n",
            "                                                                 \n",
            " batch_normalization_11 (Ba  (None, 8, 8, 128)         512       \n",
            " tchNormalization)                                               \n",
            "                                                                 \n",
            " max_pooling2d_6 (MaxPoolin  (None, 4, 4, 128)         0         \n",
            " g2D)                                                            \n",
            "                                                                 \n",
            " dropout_4 (Dropout)         (None, 4, 4, 128)         0         \n",
            "                                                                 \n",
            " flatten_2 (Flatten)         (None, 2048)              0         \n",
            "                                                                 \n",
            " dense_4 (Dense)             (None, 256)               524544    \n",
            "                                                                 \n",
            " batch_normalization_12 (Ba  (None, 256)               1024      \n",
            " tchNormalization)                                               \n",
            "                                                                 \n",
            " dropout_5 (Dropout)         (None, 256)               0         \n",
            "                                                                 \n",
            " dense_5 (Dense)             (None, 10)                2570      \n",
            "                                                                 \n",
            "=================================================================\n",
            "Total params: 1517962 (5.79 MB)\n",
            "Trainable params: 1515914 (5.78 MB)\n",
            "Non-trainable params: 2048 (8.00 KB)\n",
            "_________________________________________________________________\n",
            "Epoch 1/30\n",
            "1563/1563 [==============================] - 41s 22ms/step - loss: 1.5789 - accuracy: 0.4615 - val_loss: 1.0766 - val_accuracy: 0.6206\n",
            "Epoch 2/30\n",
            "1563/1563 [==============================] - 32s 21ms/step - loss: 0.9460 - accuracy: 0.6703 - val_loss: 0.8510 - val_accuracy: 0.7073\n",
            "Epoch 3/30\n",
            "1563/1563 [==============================] - 33s 21ms/step - loss: 0.7515 - accuracy: 0.7407 - val_loss: 0.7444 - val_accuracy: 0.7457\n",
            "Epoch 4/30\n",
            "1563/1563 [==============================] - 35s 22ms/step - loss: 0.6348 - accuracy: 0.7853 - val_loss: 0.6986 - val_accuracy: 0.7644\n",
            "Epoch 5/30\n",
            "1563/1563 [==============================] - 34s 22ms/step - loss: 0.5503 - accuracy: 0.8130 - val_loss: 0.6067 - val_accuracy: 0.7990\n",
            "Epoch 6/30\n",
            "1563/1563 [==============================] - 34s 22ms/step - loss: 0.4814 - accuracy: 0.8370 - val_loss: 0.5686 - val_accuracy: 0.8124\n",
            "Epoch 7/30\n",
            "1563/1563 [==============================] - 34s 22ms/step - loss: 0.4247 - accuracy: 0.8557 - val_loss: 0.5757 - val_accuracy: 0.8112\n",
            "Epoch 8/30\n",
            "1563/1563 [==============================] - 34s 22ms/step - loss: 0.3755 - accuracy: 0.8729 - val_loss: 0.6331 - val_accuracy: 0.7991\n",
            "Epoch 9/30\n",
            "1563/1563 [==============================] - 34s 22ms/step - loss: 0.3337 - accuracy: 0.8857 - val_loss: 0.5078 - val_accuracy: 0.8403\n",
            "Epoch 10/30\n",
            "1563/1563 [==============================] - 34s 22ms/step - loss: 0.2983 - accuracy: 0.8974 - val_loss: 0.6320 - val_accuracy: 0.8067\n",
            "Epoch 11/30\n",
            "1563/1563 [==============================] - 33s 21ms/step - loss: 0.2732 - accuracy: 0.9054 - val_loss: 0.5564 - val_accuracy: 0.8338\n",
            "Epoch 12/30\n",
            "1563/1563 [==============================] - 33s 21ms/step - loss: 0.2475 - accuracy: 0.9149 - val_loss: 0.5984 - val_accuracy: 0.8260\n",
            "Epoch 13/30\n",
            "1563/1563 [==============================] - 33s 21ms/step - loss: 0.2251 - accuracy: 0.9222 - val_loss: 0.5419 - val_accuracy: 0.8407\n",
            "Epoch 14/30\n",
            "1563/1563 [==============================] - 33s 21ms/step - loss: 0.2073 - accuracy: 0.9287 - val_loss: 0.5092 - val_accuracy: 0.8549\n",
            "Epoch 15/30\n",
            "1563/1563 [==============================] - 33s 21ms/step - loss: 0.1912 - accuracy: 0.9349 - val_loss: 0.4900 - val_accuracy: 0.8553\n",
            "Epoch 16/30\n",
            "1563/1563 [==============================] - 35s 22ms/step - loss: 0.1728 - accuracy: 0.9396 - val_loss: 0.5253 - val_accuracy: 0.8584\n",
            "Epoch 17/30\n",
            "1563/1563 [==============================] - 35s 22ms/step - loss: 0.1680 - accuracy: 0.9415 - val_loss: 0.5378 - val_accuracy: 0.8545\n",
            "Epoch 18/30\n",
            "1563/1563 [==============================] - 34s 22ms/step - loss: 0.1586 - accuracy: 0.9450 - val_loss: 0.5175 - val_accuracy: 0.8607\n",
            "Epoch 19/30\n",
            "1563/1563 [==============================] - 34s 22ms/step - loss: 0.1484 - accuracy: 0.9484 - val_loss: 0.5536 - val_accuracy: 0.8585\n",
            "Epoch 20/30\n",
            "1563/1563 [==============================] - 34s 22ms/step - loss: 0.1386 - accuracy: 0.9524 - val_loss: 0.6305 - val_accuracy: 0.8429\n",
            "Epoch 21/30\n",
            "1563/1563 [==============================] - 35s 22ms/step - loss: 0.1388 - accuracy: 0.9522 - val_loss: 0.5372 - val_accuracy: 0.8630\n",
            "Epoch 22/30\n",
            "1563/1563 [==============================] - 34s 22ms/step - loss: 0.1251 - accuracy: 0.9571 - val_loss: 0.5624 - val_accuracy: 0.8597\n",
            "Epoch 23/30\n",
            "1563/1563 [==============================] - 34s 22ms/step - loss: 0.1202 - accuracy: 0.9580 - val_loss: 0.5820 - val_accuracy: 0.8522\n",
            "Epoch 24/30\n",
            "1563/1563 [==============================] - 34s 22ms/step - loss: 0.1169 - accuracy: 0.9602 - val_loss: 0.5547 - val_accuracy: 0.8637\n",
            "Epoch 25/30\n",
            "1563/1563 [==============================] - 34s 21ms/step - loss: 0.1125 - accuracy: 0.9617 - val_loss: 0.6204 - val_accuracy: 0.8497\n",
            "Epoch 26/30\n",
            "1563/1563 [==============================] - 33s 21ms/step - loss: 0.1098 - accuracy: 0.9623 - val_loss: 0.5661 - val_accuracy: 0.8593\n",
            "Epoch 27/30\n",
            "1563/1563 [==============================] - 33s 21ms/step - loss: 0.1046 - accuracy: 0.9644 - val_loss: 0.5414 - val_accuracy: 0.8696\n",
            "Epoch 28/30\n",
            "1563/1563 [==============================] - 34s 22ms/step - loss: 0.1065 - accuracy: 0.9642 - val_loss: 0.5342 - val_accuracy: 0.8701\n",
            "Epoch 29/30\n",
            "1563/1563 [==============================] - 34s 22ms/step - loss: 0.0983 - accuracy: 0.9668 - val_loss: 0.5751 - val_accuracy: 0.8661\n",
            "Epoch 30/30\n",
            "1563/1563 [==============================] - 34s 22ms/step - loss: 0.0951 - accuracy: 0.9667 - val_loss: 0.6435 - val_accuracy: 0.8488\n"
          ]
        }
      ]
    },
    {
      "cell_type": "code",
      "source": [
        "evaluation = model_3.evaluate(X_test, Y_test_en)\n",
        "print('Test Accuracy of Model_2(with more  filters): {}'.format(evaluation[1]))\n"
      ],
      "metadata": {
        "execution": {
          "iopub.status.busy": "2023-10-05T10:08:29.273587Z",
          "iopub.execute_input": "2023-10-05T10:08:29.27428Z",
          "iopub.status.idle": "2023-10-05T10:08:32.263109Z",
          "shell.execute_reply.started": "2023-10-05T10:08:29.27424Z",
          "shell.execute_reply": "2023-10-05T10:08:32.261988Z"
        },
        "trusted": true,
        "id": "ZGT9qD7K-3xs",
        "outputId": "22a9c04e-7fde-4a80-e813-9453ea89033d",
        "colab": {
          "base_uri": "https://localhost:8080/"
        }
      },
      "execution_count": 24,
      "outputs": [
        {
          "metadata": {
            "tags": null
          },
          "name": "stdout",
          "output_type": "stream",
          "text": [
            "313/313 [==============================] - 2s 7ms/step - loss: 0.6435 - accuracy: 0.8488\n",
            "Test Accuracy of Model_2(with more  filters): 0.848800003528595\n"
          ]
        }
      ]
    },
    {
      "cell_type": "code",
      "source": [
        "def plotloss(history_3):\n",
        "    plt.plot(history_3.history['loss'])\n",
        "    plt.plot(history_3.history['val_loss'])\n",
        "    plt.plot(history_3.history['accuracy'])\n",
        "    plt.xlabel('Epochs')\n",
        "    plt.ylabel('Loss')\n",
        "    plt.legend(['Train', 'Validation', 'Accuracy'])\n",
        "    plt.show()\n",
        "plotloss(history_3)"
      ],
      "metadata": {
        "execution": {
          "iopub.status.busy": "2023-10-05T10:08:32.264725Z",
          "iopub.execute_input": "2023-10-05T10:08:32.265354Z",
          "iopub.status.idle": "2023-10-05T10:08:32.564418Z",
          "shell.execute_reply.started": "2023-10-05T10:08:32.265316Z",
          "shell.execute_reply": "2023-10-05T10:08:32.563449Z"
        },
        "trusted": true,
        "id": "Sten5VtM-3xt",
        "outputId": "f266800b-1df6-47e6-dfc3-91be4ed78e71",
        "colab": {
          "base_uri": "https://localhost:8080/",
          "height": 449
        }
      },
      "execution_count": 25,
      "outputs": [
        {
          "data": {
            "image/png": "[encoded data removed]",
            "text/plain": [
              "<Figure size 640x480 with 1 Axes>"
            ]
          },
          "metadata": {},
          "output_type": "display_data"
        }
      ]
    }
  ]
}